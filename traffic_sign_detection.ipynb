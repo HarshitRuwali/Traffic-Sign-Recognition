{
  "nbformat": 4,
  "nbformat_minor": 0,
  "metadata": {
    "colab": {
      "name": "traffic_sign_detection.ipynb",
      "provenance": [],
      "collapsed_sections": []
    },
    "kernelspec": {
      "name": "python3",
      "display_name": "Python 3"
    },
    "accelerator": "GPU"
  },
  "cells": [
    {
      "cell_type": "code",
      "metadata": {
        "id": "z9oaPdyvbpb5",
        "colab_type": "code",
        "colab": {}
      },
      "source": [
        "import numpy as np\n",
        "import pandas as pd\n",
        "import tensorflow as tf\n",
        "import cv2\n",
        "from PIL import Image\n",
        "from sklearn.model_selection import train_test_split\n",
        "from keras.utils import to_categorical\n",
        "from keras.models import load_model\n",
        "#from keras.models import Sequential\n",
        "#from keras.layers import Conv2D, MaxPool2D, Dense, Flatten, Dropout\n",
        "from tensorflow.keras.layers import Conv2D, MaxPool2D, Flatten, Dropout, Dense\n",
        "from tensorflow.keras import Sequential\n",
        "#import matplotlib as plt"
      ],
      "execution_count": 0,
      "outputs": []
    },
    {
      "cell_type": "code",
      "metadata": {
        "id": "j0ii9BM6lk8M",
        "colab_type": "code",
        "colab": {}
      },
      "source": [
        "data = []\n",
        "labels = []\n",
        "classes = 43"
      ],
      "execution_count": 0,
      "outputs": []
    },
    {
      "cell_type": "code",
      "metadata": {
        "id": "2X5O1XWE0A-Q",
        "colab_type": "code",
        "colab": {}
      },
      "source": [
        "!unzip '/content/drive/My Drive/Data_Sets/traffic-sign.zip'"
      ],
      "execution_count": 0,
      "outputs": []
    },
    {
      "cell_type": "code",
      "metadata": {
        "id": "_D_ZSyBfy7Nf",
        "colab_type": "code",
        "colab": {}
      },
      "source": [
        "import os\n",
        "cur_path = os.getcwd()\n",
        "for i in range(classes):\n",
        "    path = os.path.join(cur_path,'Train',str(i))\n",
        "    images = os.listdir(path)\n",
        "    #print(\"done-1\")\n",
        "    for a in images:\n",
        "            image = Image.open(path + '/'+ a)\n",
        "            image = image.resize((30,30))\n",
        "            image = np.array(image)\n",
        "            data.append(image)\n",
        "            labels.append(i)\n",
        "            #print('done')"
      ],
      "execution_count": 0,
      "outputs": []
    },
    {
      "cell_type": "code",
      "metadata": {
        "id": "v-Mh-wHZzTJF",
        "colab_type": "code",
        "colab": {}
      },
      "source": [
        "data = np.array(data)\n",
        "labels = np.array(labels)"
      ],
      "execution_count": 0,
      "outputs": []
    },
    {
      "cell_type": "code",
      "metadata": {
        "id": "ICZfg6vO_Ba7",
        "colab_type": "code",
        "outputId": "d0b9c33e-5739-41b5-b976-a16bd235d339",
        "colab": {
          "base_uri": "https://localhost:8080/",
          "height": 34
        }
      },
      "source": [
        "print(data.shape, labels.shape)"
      ],
      "execution_count": 6,
      "outputs": [
        {
          "output_type": "stream",
          "text": [
            "(39209, 30, 30, 3) (39209,)\n"
          ],
          "name": "stdout"
        }
      ]
    },
    {
      "cell_type": "code",
      "metadata": {
        "id": "EZ40UISP_Dz-",
        "colab_type": "code",
        "colab": {}
      },
      "source": [
        "X_train, X_test, y_train, y_test = train_test_split(data, labels, test_size=0.2, random_state=42)"
      ],
      "execution_count": 0,
      "outputs": []
    },
    {
      "cell_type": "code",
      "metadata": {
        "id": "Ts7WIAO1REXO",
        "colab_type": "code",
        "colab": {
          "base_uri": "https://localhost:8080/",
          "height": 34
        },
        "outputId": "6c3adac4-64a3-4622-db79-ca252b4d2f11"
      },
      "source": [
        "print(X_train.shape, X_test.shape, y_train.shape, y_test.shape)"
      ],
      "execution_count": 8,
      "outputs": [
        {
          "output_type": "stream",
          "text": [
            "(31367, 30, 30, 3) (7842, 30, 30, 3) (31367,) (7842,)\n"
          ],
          "name": "stdout"
        }
      ]
    },
    {
      "cell_type": "code",
      "metadata": {
        "id": "V6lIWmN5RGUN",
        "colab_type": "code",
        "colab": {}
      },
      "source": [
        "#one hot encoding for the labels\n",
        "y_train = to_categorical(y_train, 43)\n",
        "y_test = to_categorical(y_test, 43) "
      ],
      "execution_count": 0,
      "outputs": []
    },
    {
      "cell_type": "code",
      "metadata": {
        "id": "pbC34nV-RJU1",
        "colab_type": "code",
        "colab": {}
      },
      "source": [
        "#model\n",
        "#from tensorflow.python.keras.layers import Dense\n",
        "#from tensorflow.python.keras import Sequential\n",
        "model = Sequential()\n",
        "model.add(Conv2D(filters=32, kernel_size=(5,5), activation='relu', input_shape=X_train.shape[1:]))\n",
        "model.add(Conv2D(filters=32, kernel_size=(5,5), activation='relu'))\n",
        "model.add(MaxPool2D(pool_size=(2, 2)))\n",
        "model.add(Dropout(rate=0.25))\n",
        "model.add(Conv2D(filters=64, kernel_size=(3, 3), activation='relu'))\n",
        "model.add(Conv2D(filters=64, kernel_size=(3, 3), activation='relu'))\n",
        "model.add(MaxPool2D(pool_size=(2, 2)))\n",
        "model.add(Dropout(rate=0.25))\n",
        "model.add(Flatten())\n",
        "model.add(Dense(256, activation='relu'))\n",
        "model.add(Dropout(rate=0.5))\n",
        "model.add(Dense(43, activation='softmax'))"
      ],
      "execution_count": 0,
      "outputs": []
    },
    {
      "cell_type": "code",
      "metadata": {
        "id": "G0c1me4JRTYf",
        "colab_type": "code",
        "colab": {}
      },
      "source": [
        "model.compile(loss='categorical_crossentropy', optimizer='adam', metrics=['accuracy'])"
      ],
      "execution_count": 0,
      "outputs": []
    },
    {
      "cell_type": "code",
      "metadata": {
        "id": "AHVr_3KIUhTK",
        "colab_type": "code",
        "colab": {
          "base_uri": "https://localhost:8080/",
          "height": 1000
        },
        "outputId": "447fc2d7-b8a5-4380-e482-b9695d82484e"
      },
      "source": [
        "history = model.fit(X_train, y_train, batch_size = 32, epochs = 100, validation_data = (X_test, y_test))\n",
        "model.save(\"traffic_sign_detection.h5\")"
      ],
      "execution_count": 13,
      "outputs": [
        {
          "output_type": "stream",
          "text": [
            "Epoch 1/100\n",
            "981/981 [==============================] - 6s 6ms/step - loss: 0.2581 - accuracy: 0.9280 - val_loss: 0.0623 - val_accuracy: 0.9807\n",
            "Epoch 2/100\n",
            "981/981 [==============================] - 6s 6ms/step - loss: 0.2659 - accuracy: 0.9285 - val_loss: 0.0822 - val_accuracy: 0.9769\n",
            "Epoch 3/100\n",
            "981/981 [==============================] - 5s 5ms/step - loss: 0.2694 - accuracy: 0.9278 - val_loss: 0.0566 - val_accuracy: 0.9833\n",
            "Epoch 4/100\n",
            "981/981 [==============================] - 6s 6ms/step - loss: 0.2438 - accuracy: 0.9333 - val_loss: 0.0873 - val_accuracy: 0.9767\n",
            "Epoch 5/100\n",
            "981/981 [==============================] - 5s 6ms/step - loss: 0.2484 - accuracy: 0.9334 - val_loss: 0.0751 - val_accuracy: 0.9799\n",
            "Epoch 6/100\n",
            "981/981 [==============================] - 5s 5ms/step - loss: 0.2445 - accuracy: 0.9343 - val_loss: 0.0726 - val_accuracy: 0.9788\n",
            "Epoch 7/100\n",
            "981/981 [==============================] - 5s 6ms/step - loss: 0.2528 - accuracy: 0.9324 - val_loss: 0.0632 - val_accuracy: 0.9820\n",
            "Epoch 8/100\n",
            "981/981 [==============================] - 5s 6ms/step - loss: 0.2693 - accuracy: 0.9304 - val_loss: 0.0694 - val_accuracy: 0.9838\n",
            "Epoch 9/100\n",
            "981/981 [==============================] - 5s 5ms/step - loss: 0.2564 - accuracy: 0.9309 - val_loss: 0.0858 - val_accuracy: 0.9777\n",
            "Epoch 10/100\n",
            "981/981 [==============================] - 6s 6ms/step - loss: 0.2458 - accuracy: 0.9352 - val_loss: 0.1094 - val_accuracy: 0.9666\n",
            "Epoch 11/100\n",
            "981/981 [==============================] - 5s 6ms/step - loss: 0.2545 - accuracy: 0.9342 - val_loss: 0.0859 - val_accuracy: 0.9717\n",
            "Epoch 12/100\n",
            "981/981 [==============================] - 5s 5ms/step - loss: 0.2655 - accuracy: 0.9311 - val_loss: 0.0873 - val_accuracy: 0.9751\n",
            "Epoch 13/100\n",
            "981/981 [==============================] - 5s 5ms/step - loss: 0.2392 - accuracy: 0.9382 - val_loss: 0.0542 - val_accuracy: 0.9846\n",
            "Epoch 14/100\n",
            "981/981 [==============================] - 5s 6ms/step - loss: 0.2523 - accuracy: 0.9361 - val_loss: 0.0849 - val_accuracy: 0.9797\n",
            "Epoch 15/100\n",
            "981/981 [==============================] - 5s 5ms/step - loss: 0.2613 - accuracy: 0.9318 - val_loss: 0.0671 - val_accuracy: 0.9814\n",
            "Epoch 16/100\n",
            "981/981 [==============================] - 5s 6ms/step - loss: 0.2503 - accuracy: 0.9354 - val_loss: 0.0657 - val_accuracy: 0.9828\n",
            "Epoch 17/100\n",
            "981/981 [==============================] - 5s 6ms/step - loss: 0.2713 - accuracy: 0.9320 - val_loss: 0.0730 - val_accuracy: 0.9814\n",
            "Epoch 18/100\n",
            "981/981 [==============================] - 5s 5ms/step - loss: 0.2518 - accuracy: 0.9349 - val_loss: 0.0765 - val_accuracy: 0.9786\n",
            "Epoch 19/100\n",
            "981/981 [==============================] - 5s 5ms/step - loss: 0.2288 - accuracy: 0.9411 - val_loss: 0.0497 - val_accuracy: 0.9862\n",
            "Epoch 20/100\n",
            "981/981 [==============================] - 5s 5ms/step - loss: 0.2853 - accuracy: 0.9290 - val_loss: 0.0557 - val_accuracy: 0.9841\n",
            "Epoch 21/100\n",
            "981/981 [==============================] - 5s 6ms/step - loss: 0.2810 - accuracy: 0.9298 - val_loss: 0.0680 - val_accuracy: 0.9821\n",
            "Epoch 22/100\n",
            "981/981 [==============================] - 5s 5ms/step - loss: 0.2452 - accuracy: 0.9371 - val_loss: 0.0555 - val_accuracy: 0.9852\n",
            "Epoch 23/100\n",
            "981/981 [==============================] - 5s 5ms/step - loss: 0.2510 - accuracy: 0.9372 - val_loss: 0.0612 - val_accuracy: 0.9847\n",
            "Epoch 24/100\n",
            "981/981 [==============================] - 6s 6ms/step - loss: 0.2537 - accuracy: 0.9377 - val_loss: 0.0857 - val_accuracy: 0.9774\n",
            "Epoch 25/100\n",
            "981/981 [==============================] - 5s 6ms/step - loss: 0.2698 - accuracy: 0.9335 - val_loss: 0.0732 - val_accuracy: 0.9837\n",
            "Epoch 26/100\n",
            "981/981 [==============================] - 5s 5ms/step - loss: 0.2502 - accuracy: 0.9406 - val_loss: 0.1029 - val_accuracy: 0.9695\n",
            "Epoch 27/100\n",
            "981/981 [==============================] - 5s 5ms/step - loss: 0.2671 - accuracy: 0.9355 - val_loss: 0.0611 - val_accuracy: 0.9821\n",
            "Epoch 28/100\n",
            "981/981 [==============================] - 5s 5ms/step - loss: 0.2298 - accuracy: 0.9401 - val_loss: 0.0529 - val_accuracy: 0.9851\n",
            "Epoch 29/100\n",
            "981/981 [==============================] - 5s 5ms/step - loss: 0.2710 - accuracy: 0.9355 - val_loss: 0.0502 - val_accuracy: 0.9869\n",
            "Epoch 30/100\n",
            "981/981 [==============================] - 5s 6ms/step - loss: 0.2475 - accuracy: 0.9403 - val_loss: 0.0651 - val_accuracy: 0.9839\n",
            "Epoch 31/100\n",
            "981/981 [==============================] - 5s 5ms/step - loss: 0.2737 - accuracy: 0.9335 - val_loss: 0.1225 - val_accuracy: 0.9670\n",
            "Epoch 32/100\n",
            "981/981 [==============================] - 5s 5ms/step - loss: 0.2972 - accuracy: 0.9300 - val_loss: 0.1343 - val_accuracy: 0.9609\n",
            "Epoch 33/100\n",
            "981/981 [==============================] - 5s 5ms/step - loss: 0.2721 - accuracy: 0.9368 - val_loss: 0.0994 - val_accuracy: 0.9741\n",
            "Epoch 34/100\n",
            "981/981 [==============================] - 6s 6ms/step - loss: 0.3595 - accuracy: 0.9154 - val_loss: 0.0803 - val_accuracy: 0.9756\n",
            "Epoch 35/100\n",
            "981/981 [==============================] - 5s 5ms/step - loss: 0.2686 - accuracy: 0.9347 - val_loss: 0.0661 - val_accuracy: 0.9811\n",
            "Epoch 36/100\n",
            "981/981 [==============================] - 6s 6ms/step - loss: 0.2845 - accuracy: 0.9327 - val_loss: 0.0738 - val_accuracy: 0.9793\n",
            "Epoch 37/100\n",
            "981/981 [==============================] - 5s 5ms/step - loss: 0.2757 - accuracy: 0.9342 - val_loss: 0.1859 - val_accuracy: 0.9443\n",
            "Epoch 38/100\n",
            "981/981 [==============================] - 6s 6ms/step - loss: 0.2646 - accuracy: 0.9360 - val_loss: 0.0491 - val_accuracy: 0.9874\n",
            "Epoch 39/100\n",
            "981/981 [==============================] - 5s 5ms/step - loss: 0.3073 - accuracy: 0.9291 - val_loss: 0.0751 - val_accuracy: 0.9830\n",
            "Epoch 40/100\n",
            "981/981 [==============================] - 5s 6ms/step - loss: 0.2912 - accuracy: 0.9339 - val_loss: 0.0773 - val_accuracy: 0.9797\n",
            "Epoch 41/100\n",
            "981/981 [==============================] - 6s 6ms/step - loss: 0.2765 - accuracy: 0.9324 - val_loss: 0.0592 - val_accuracy: 0.9837\n",
            "Epoch 42/100\n",
            "981/981 [==============================] - 6s 6ms/step - loss: 0.2869 - accuracy: 0.9335 - val_loss: 0.0790 - val_accuracy: 0.9793\n",
            "Epoch 43/100\n",
            "981/981 [==============================] - 6s 6ms/step - loss: 0.2952 - accuracy: 0.9317 - val_loss: 0.0680 - val_accuracy: 0.9842\n",
            "Epoch 44/100\n",
            "981/981 [==============================] - 6s 6ms/step - loss: 0.2722 - accuracy: 0.9358 - val_loss: 0.0665 - val_accuracy: 0.9824\n",
            "Epoch 45/100\n",
            "981/981 [==============================] - 5s 5ms/step - loss: 0.3005 - accuracy: 0.9297 - val_loss: 0.1010 - val_accuracy: 0.9698\n",
            "Epoch 46/100\n",
            "981/981 [==============================] - 5s 5ms/step - loss: 0.2712 - accuracy: 0.9358 - val_loss: 0.0716 - val_accuracy: 0.9814\n",
            "Epoch 47/100\n",
            "981/981 [==============================] - 5s 5ms/step - loss: 0.3132 - accuracy: 0.9309 - val_loss: 0.0624 - val_accuracy: 0.9836\n",
            "Epoch 48/100\n",
            "981/981 [==============================] - 5s 5ms/step - loss: 0.3146 - accuracy: 0.9285 - val_loss: 0.0787 - val_accuracy: 0.9783\n",
            "Epoch 49/100\n",
            "981/981 [==============================] - 5s 5ms/step - loss: 0.2949 - accuracy: 0.9327 - val_loss: 0.0818 - val_accuracy: 0.9787\n",
            "Epoch 50/100\n",
            "981/981 [==============================] - 5s 5ms/step - loss: 0.3565 - accuracy: 0.9185 - val_loss: 0.0458 - val_accuracy: 0.9881\n",
            "Epoch 51/100\n",
            "981/981 [==============================] - 5s 5ms/step - loss: 0.3160 - accuracy: 0.9293 - val_loss: 0.0560 - val_accuracy: 0.9853\n",
            "Epoch 52/100\n",
            "981/981 [==============================] - 6s 6ms/step - loss: 0.2744 - accuracy: 0.9377 - val_loss: 0.0968 - val_accuracy: 0.9722\n",
            "Epoch 53/100\n",
            "981/981 [==============================] - 5s 5ms/step - loss: 0.3162 - accuracy: 0.9312 - val_loss: 0.0744 - val_accuracy: 0.9797\n",
            "Epoch 54/100\n",
            "981/981 [==============================] - 5s 5ms/step - loss: 0.2832 - accuracy: 0.9340 - val_loss: 0.0460 - val_accuracy: 0.9881\n",
            "Epoch 55/100\n",
            "981/981 [==============================] - 5s 5ms/step - loss: 0.2621 - accuracy: 0.9394 - val_loss: 0.1319 - val_accuracy: 0.9652\n",
            "Epoch 56/100\n",
            "981/981 [==============================] - 5s 5ms/step - loss: 0.2901 - accuracy: 0.9330 - val_loss: 0.0688 - val_accuracy: 0.9827\n",
            "Epoch 57/100\n",
            "981/981 [==============================] - 5s 5ms/step - loss: 0.3411 - accuracy: 0.9268 - val_loss: 0.0589 - val_accuracy: 0.9843\n",
            "Epoch 58/100\n",
            "981/981 [==============================] - 6s 6ms/step - loss: 0.3391 - accuracy: 0.9262 - val_loss: 0.0687 - val_accuracy: 0.9804\n",
            "Epoch 59/100\n",
            "981/981 [==============================] - 6s 6ms/step - loss: 0.3175 - accuracy: 0.9297 - val_loss: 0.0468 - val_accuracy: 0.9869\n",
            "Epoch 60/100\n",
            "981/981 [==============================] - 6s 6ms/step - loss: 0.2551 - accuracy: 0.9398 - val_loss: 0.0866 - val_accuracy: 0.9783\n",
            "Epoch 61/100\n",
            "981/981 [==============================] - 5s 5ms/step - loss: 0.3694 - accuracy: 0.9205 - val_loss: 0.0576 - val_accuracy: 0.9843\n",
            "Epoch 62/100\n",
            "981/981 [==============================] - 5s 5ms/step - loss: 0.4403 - accuracy: 0.9096 - val_loss: 0.0785 - val_accuracy: 0.9784\n",
            "Epoch 63/100\n",
            "981/981 [==============================] - 5s 5ms/step - loss: 0.3324 - accuracy: 0.9261 - val_loss: 0.0793 - val_accuracy: 0.9795\n",
            "Epoch 64/100\n",
            "981/981 [==============================] - 5s 5ms/step - loss: 0.2676 - accuracy: 0.9412 - val_loss: 0.0760 - val_accuracy: 0.9837\n",
            "Epoch 65/100\n",
            "981/981 [==============================] - 5s 5ms/step - loss: 0.2978 - accuracy: 0.9328 - val_loss: 0.0674 - val_accuracy: 0.9843\n",
            "Epoch 66/100\n",
            "981/981 [==============================] - 5s 5ms/step - loss: 0.3042 - accuracy: 0.9347 - val_loss: 0.0815 - val_accuracy: 0.9795\n",
            "Epoch 67/100\n",
            "981/981 [==============================] - 5s 5ms/step - loss: 0.3743 - accuracy: 0.9184 - val_loss: 0.0724 - val_accuracy: 0.9801\n",
            "Epoch 68/100\n",
            "981/981 [==============================] - 5s 5ms/step - loss: 0.3528 - accuracy: 0.9221 - val_loss: 0.0902 - val_accuracy: 0.9746\n",
            "Epoch 69/100\n",
            "981/981 [==============================] - 5s 5ms/step - loss: 0.3383 - accuracy: 0.9283 - val_loss: 0.0669 - val_accuracy: 0.9850\n",
            "Epoch 70/100\n",
            "981/981 [==============================] - 5s 6ms/step - loss: 0.3426 - accuracy: 0.9267 - val_loss: 0.0744 - val_accuracy: 0.9823\n",
            "Epoch 71/100\n",
            "981/981 [==============================] - 5s 5ms/step - loss: 0.2993 - accuracy: 0.9338 - val_loss: 0.0904 - val_accuracy: 0.9763\n",
            "Epoch 72/100\n",
            "981/981 [==============================] - 5s 5ms/step - loss: 0.4076 - accuracy: 0.9152 - val_loss: 0.0743 - val_accuracy: 0.9816\n",
            "Epoch 73/100\n",
            "981/981 [==============================] - 5s 5ms/step - loss: 0.3166 - accuracy: 0.9303 - val_loss: 0.0673 - val_accuracy: 0.9838\n",
            "Epoch 74/100\n",
            "981/981 [==============================] - 5s 5ms/step - loss: 0.3737 - accuracy: 0.9192 - val_loss: 0.0877 - val_accuracy: 0.9770\n",
            "Epoch 75/100\n",
            "981/981 [==============================] - 5s 5ms/step - loss: 0.3724 - accuracy: 0.9203 - val_loss: 0.0779 - val_accuracy: 0.9809\n",
            "Epoch 76/100\n",
            "981/981 [==============================] - 5s 6ms/step - loss: 0.3192 - accuracy: 0.9299 - val_loss: 0.0627 - val_accuracy: 0.9855\n",
            "Epoch 77/100\n",
            "981/981 [==============================] - 5s 5ms/step - loss: 0.4427 - accuracy: 0.9047 - val_loss: 0.0681 - val_accuracy: 0.9834\n",
            "Epoch 78/100\n",
            "981/981 [==============================] - 5s 5ms/step - loss: 0.3394 - accuracy: 0.9291 - val_loss: 0.1167 - val_accuracy: 0.9711\n",
            "Epoch 79/100\n",
            "981/981 [==============================] - 5s 6ms/step - loss: 0.3940 - accuracy: 0.9157 - val_loss: 0.0691 - val_accuracy: 0.9827\n",
            "Epoch 80/100\n",
            "981/981 [==============================] - 5s 5ms/step - loss: 0.3366 - accuracy: 0.9272 - val_loss: 0.0675 - val_accuracy: 0.9842\n",
            "Epoch 81/100\n",
            "981/981 [==============================] - 5s 6ms/step - loss: 0.4143 - accuracy: 0.9127 - val_loss: 0.0705 - val_accuracy: 0.9837\n",
            "Epoch 82/100\n",
            "981/981 [==============================] - 5s 5ms/step - loss: 0.3706 - accuracy: 0.9202 - val_loss: 0.0775 - val_accuracy: 0.9820\n",
            "Epoch 83/100\n",
            "981/981 [==============================] - 5s 6ms/step - loss: 0.3851 - accuracy: 0.9182 - val_loss: 0.3448 - val_accuracy: 0.9288\n",
            "Epoch 84/100\n",
            "981/981 [==============================] - 5s 6ms/step - loss: 0.4010 - accuracy: 0.9121 - val_loss: 0.1031 - val_accuracy: 0.9754\n",
            "Epoch 85/100\n",
            "981/981 [==============================] - 5s 5ms/step - loss: 0.3860 - accuracy: 0.9182 - val_loss: 0.0783 - val_accuracy: 0.9801\n",
            "Epoch 86/100\n",
            "981/981 [==============================] - 6s 6ms/step - loss: 0.3444 - accuracy: 0.9273 - val_loss: 0.0818 - val_accuracy: 0.9815\n",
            "Epoch 87/100\n",
            "981/981 [==============================] - 5s 5ms/step - loss: 0.3855 - accuracy: 0.9202 - val_loss: 0.1484 - val_accuracy: 0.9643\n",
            "Epoch 88/100\n",
            "981/981 [==============================] - 5s 5ms/step - loss: 0.4071 - accuracy: 0.9138 - val_loss: 0.0715 - val_accuracy: 0.9821\n",
            "Epoch 89/100\n",
            "981/981 [==============================] - 5s 5ms/step - loss: 0.4542 - accuracy: 0.9072 - val_loss: 0.2106 - val_accuracy: 0.9546\n",
            "Epoch 90/100\n",
            "981/981 [==============================] - 5s 5ms/step - loss: 0.3693 - accuracy: 0.9225 - val_loss: 0.0879 - val_accuracy: 0.9796\n",
            "Epoch 91/100\n",
            "981/981 [==============================] - 5s 5ms/step - loss: 0.3269 - accuracy: 0.9307 - val_loss: 0.0876 - val_accuracy: 0.9796\n",
            "Epoch 92/100\n",
            "981/981 [==============================] - 5s 5ms/step - loss: 0.3614 - accuracy: 0.9220 - val_loss: 0.1599 - val_accuracy: 0.9631\n",
            "Epoch 93/100\n",
            "981/981 [==============================] - 5s 5ms/step - loss: 0.3908 - accuracy: 0.9181 - val_loss: 0.0905 - val_accuracy: 0.9816\n",
            "Epoch 94/100\n",
            "981/981 [==============================] - 5s 5ms/step - loss: 0.3789 - accuracy: 0.9215 - val_loss: 0.0926 - val_accuracy: 0.9816\n",
            "Epoch 95/100\n",
            "981/981 [==============================] - 5s 6ms/step - loss: 0.3791 - accuracy: 0.9173 - val_loss: 0.1183 - val_accuracy: 0.9723\n",
            "Epoch 96/100\n",
            "981/981 [==============================] - 5s 5ms/step - loss: 0.4773 - accuracy: 0.9005 - val_loss: 0.1254 - val_accuracy: 0.9717\n",
            "Epoch 97/100\n",
            "981/981 [==============================] - 5s 5ms/step - loss: 0.4411 - accuracy: 0.9071 - val_loss: 0.0759 - val_accuracy: 0.9834\n",
            "Epoch 98/100\n",
            "981/981 [==============================] - 5s 5ms/step - loss: 0.3861 - accuracy: 0.9181 - val_loss: 0.0708 - val_accuracy: 0.9829\n",
            "Epoch 99/100\n",
            "981/981 [==============================] - 5s 5ms/step - loss: 0.4260 - accuracy: 0.9149 - val_loss: 0.0852 - val_accuracy: 0.9821\n",
            "Epoch 100/100\n",
            "981/981 [==============================] - 5s 5ms/step - loss: 0.4788 - accuracy: 0.9094 - val_loss: 0.0837 - val_accuracy: 0.9823\n"
          ],
          "name": "stdout"
        }
      ]
    },
    {
      "cell_type": "code",
      "metadata": {
        "id": "ETKBAftoUqmc",
        "colab_type": "code",
        "colab": {
          "base_uri": "https://localhost:8080/",
          "height": 295
        },
        "outputId": "a4ac7d1b-ca0c-469d-abfb-925fbee504e3"
      },
      "source": [
        "import matplotlib.pyplot as plt\n",
        "plt.figure(0)\n",
        "plt.plot(history.history['accuracy'], label='training accuracy')\n",
        "plt.plot(history.history['val_accuracy'], label='val accuracy')\n",
        "plt.title('Accuracy')\n",
        "plt.xlabel('epochs')\n",
        "plt.ylabel('accuracy')\n",
        "plt.legend()\n",
        "plt.show()"
      ],
      "execution_count": 27,
      "outputs": [
        {
          "output_type": "display_data",
          "data": {
            "image/png": "[encoded data removed]",
            "text/plain": [
              "<Figure size 432x288 with 1 Axes>"
            ]
          },
          "metadata": {
            "tags": []
          }
        }
      ]
    },
    {
      "cell_type": "code",
      "metadata": {
        "id": "Z0bZOdsvXhvr",
        "colab_type": "code",
        "colab": {
          "base_uri": "https://localhost:8080/",
          "height": 295
        },
        "outputId": "3b56febc-b639-4d23-82b2-80bcf6d97da0"
      },
      "source": [
        "plt.figure(1)\n",
        "plt.plot(history.history['loss'], label='training loss')\n",
        "plt.plot(history.history['val_loss'], label='val loss')\n",
        "plt.title('Loss')\n",
        "plt.xlabel('epochs')\n",
        "plt.ylabel('loss')\n",
        "plt.legend()\n",
        "plt.show()"
      ],
      "execution_count": 26,
      "outputs": [
        {
          "output_type": "display_data",
          "data": {
            "image/png": "[encoded data removed]",
            "text/plain": [
              "<Figure size 432x288 with 1 Axes>"
            ]
          },
          "metadata": {
            "tags": []
          }
        }
      ]
    },
    {
      "cell_type": "code",
      "metadata": {
        "id": "4w8Y_RLlXkA4",
        "colab_type": "code",
        "colab": {}
      },
      "source": [
        "from sklearn.metrics import accuracy_score"
      ],
      "execution_count": 0,
      "outputs": []
    },
    {
      "cell_type": "code",
      "metadata": {
        "id": "ZW6od2DcXqVM",
        "colab_type": "code",
        "colab": {}
      },
      "source": [
        "y_test = pd.read_csv('Test.csv')\n",
        "\n",
        "labels = y_test[\"ClassId\"].values\n",
        "imgs = y_test[\"Path\"].values"
      ],
      "execution_count": 0,
      "outputs": []
    },
    {
      "cell_type": "code",
      "metadata": {
        "id": "AGR85rdxXrfQ",
        "colab_type": "code",
        "colab": {}
      },
      "source": [
        "data = []"
      ],
      "execution_count": 0,
      "outputs": []
    },
    {
      "cell_type": "code",
      "metadata": {
        "id": "hhHQRk-JXt6l",
        "colab_type": "code",
        "colab": {}
      },
      "source": [
        "for img in imgs:\n",
        "    image = Image.open(img)\n",
        "    image = image.resize((30,30))\n",
        "    data.append(np.array(image))"
      ],
      "execution_count": 0,
      "outputs": []
    },
    {
      "cell_type": "code",
      "metadata": {
        "id": "UyOj-VXfXwj8",
        "colab_type": "code",
        "colab": {}
      },
      "source": [
        "X_test=np.array(data)"
      ],
      "execution_count": 0,
      "outputs": []
    },
    {
      "cell_type": "code",
      "metadata": {
        "id": "8CIQbKXPXx36",
        "colab_type": "code",
        "colab": {}
      },
      "source": [
        "pred = model.predict_classes(X_test)"
      ],
      "execution_count": 0,
      "outputs": []
    },
    {
      "cell_type": "code",
      "metadata": {
        "id": "dFlB7mLyX0gN",
        "colab_type": "code",
        "colab": {}
      },
      "source": [
        "from sklearn.metrics import accuracy_score"
      ],
      "execution_count": 0,
      "outputs": []
    },
    {
      "cell_type": "code",
      "metadata": {
        "id": "1Uc0R9PaX4gs",
        "colab_type": "code",
        "colab": {
          "base_uri": "https://localhost:8080/",
          "height": 34
        },
        "outputId": "e4a65478-b61e-4e20-fa73-f5949def2f7c"
      },
      "source": [
        "print(accuracy_score(labels, pred))"
      ],
      "execution_count": 39,
      "outputs": [
        {
          "output_type": "stream",
          "text": [
            "0.9445764053840063\n"
          ],
          "name": "stdout"
        }
      ]
    },
    {
      "cell_type": "code",
      "metadata": {
        "id": "goPkwoaGX4w6",
        "colab_type": "code",
        "colab": {}
      },
      "source": [
        ""
      ],
      "execution_count": 0,
      "outputs": []
    }
  ]
}